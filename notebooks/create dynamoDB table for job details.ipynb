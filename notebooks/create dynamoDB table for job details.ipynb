{
 "cells": [
  {
   "cell_type": "code",
   "execution_count": null,
   "metadata": {},
   "outputs": [],
   "source": [
    "# Here we will create DynamoDB table 'jobs' to preserve metadata information for each and every jobs"
   ]
  },
  {
   "cell_type": "code",
   "execution_count": 1,
   "metadata": {},
   "outputs": [],
   "source": [
    "import boto3"
   ]
  },
  {
   "cell_type": "code",
   "execution_count": 2,
   "metadata": {},
   "outputs": [
    {
     "data": {
      "text/plain": [
       "'gitawsacct'"
      ]
     },
     "execution_count": 2,
     "metadata": {},
     "output_type": "execute_result"
    }
   ],
   "source": [
    "import os\n",
    "os.environ.setdefault('AWS_PROFILE', 'gitawsacct')"
   ]
  },
  {
   "cell_type": "code",
   "execution_count": 3,
   "metadata": {},
   "outputs": [],
   "source": [
    "dynamo_client = boto3.client('dynamodb')"
   ]
  },
  {
   "cell_type": "code",
   "execution_count": 4,
   "metadata": {},
   "outputs": [
    {
     "data": {
      "text/plain": [
       "botocore.client.DynamoDB"
      ]
     },
     "execution_count": 4,
     "metadata": {},
     "output_type": "execute_result"
    }
   ],
   "source": [
    "type(dynamo_client)"
   ]
  },
  {
   "cell_type": "code",
   "execution_count": 5,
   "metadata": {},
   "outputs": [
    {
     "data": {
      "text/plain": [
       "{'TableNames': [],\n",
       " 'ResponseMetadata': {'RequestId': 'SEJ22TOKDLMBBGPO9ULQIKA683VV4KQNSO5AEMVJF66Q9ASUAAJG',\n",
       "  'HTTPStatusCode': 200,\n",
       "  'HTTPHeaders': {'server': 'Server',\n",
       "   'date': 'Sun, 23 Apr 2023 19:51:55 GMT',\n",
       "   'content-type': 'application/x-amz-json-1.0',\n",
       "   'content-length': '17',\n",
       "   'connection': 'keep-alive',\n",
       "   'x-amzn-requestid': 'SEJ22TOKDLMBBGPO9ULQIKA683VV4KQNSO5AEMVJF66Q9ASUAAJG',\n",
       "   'x-amz-crc32': '1315925753'},\n",
       "  'RetryAttempts': 0}}"
      ]
     },
     "execution_count": 5,
     "metadata": {},
     "output_type": "execute_result"
    }
   ],
   "source": [
    "dynamo_client.list_tables()"
   ]
  },
  {
   "cell_type": "code",
   "execution_count": 6,
   "metadata": {},
   "outputs": [],
   "source": [
    "tables = dynamo_client.list_tables()['TableNames']"
   ]
  },
  {
   "cell_type": "code",
   "execution_count": 7,
   "metadata": {},
   "outputs": [
    {
     "data": {
      "text/plain": [
       "False"
      ]
     },
     "execution_count": 7,
     "metadata": {},
     "output_type": "execute_result"
    }
   ],
   "source": [
    "'jobs' in tables"
   ]
  },
  {
   "cell_type": "code",
   "execution_count": 8,
   "metadata": {},
   "outputs": [
    {
     "name": "stdout",
     "output_type": "stream",
     "text": [
      "{'TableDescription': {'AttributeDefinitions': [{'AttributeName': 'job_id', 'AttributeType': 'S'}], 'TableName': 'jobs', 'KeySchema': [{'AttributeName': 'job_id', 'KeyType': 'HASH'}], 'TableStatus': 'CREATING', 'CreationDateTime': datetime.datetime(2023, 4, 23, 14, 52, 14, 893000, tzinfo=tzlocal()), 'ProvisionedThroughput': {'NumberOfDecreasesToday': 0, 'ReadCapacityUnits': 0, 'WriteCapacityUnits': 0}, 'TableSizeBytes': 0, 'ItemCount': 0, 'TableArn': 'arn:aws:dynamodb:us-east-1:866874214817:table/jobs', 'TableId': '1d14298b-88e7-4c8e-8c11-dfc63de08fbc', 'BillingModeSummary': {'BillingMode': 'PAY_PER_REQUEST'}}, 'ResponseMetadata': {'RequestId': 'EEMPIE4MRL3SFBCTS50JPH50LRVV4KQNSO5AEMVJF66Q9ASUAAJG', 'HTTPStatusCode': 200, 'HTTPHeaders': {'server': 'Server', 'date': 'Sun, 23 Apr 2023 19:52:14 GMT', 'content-type': 'application/x-amz-json-1.0', 'content-length': '636', 'connection': 'keep-alive', 'x-amzn-requestid': 'EEMPIE4MRL3SFBCTS50JPH50LRVV4KQNSO5AEMVJF66Q9ASUAAJG', 'x-amz-crc32': '1491074214'}, 'RetryAttempts': 0}}\n"
     ]
    }
   ],
   "source": [
    "if 'jobs' not in tables:\n",
    "    response = dynamo_client.create_table(\n",
    "        AttributeDefinitions=[\n",
    "            {\n",
    "                'AttributeName': 'job_id',\n",
    "                'AttributeType': 'S'\n",
    "            }\n",
    "        ],\n",
    "        TableName='jobs',\n",
    "        KeySchema=[\n",
    "            {\n",
    "                'AttributeName': 'job_id',\n",
    "                'KeyType': 'HASH'\n",
    "            },\n",
    "        ],\n",
    "        BillingMode='PAY_PER_REQUEST'\n",
    "    )\n",
    "\n",
    "    print(response)"
   ]
  },
  {
   "cell_type": "code",
   "execution_count": 9,
   "metadata": {},
   "outputs": [
    {
     "data": {
      "text/plain": [
       "{'TableNames': ['jobs'],\n",
       " 'ResponseMetadata': {'RequestId': 'S22TL0G71B4P29MGMFS842335FVV4KQNSO5AEMVJF66Q9ASUAAJG',\n",
       "  'HTTPStatusCode': 200,\n",
       "  'HTTPHeaders': {'server': 'Server',\n",
       "   'date': 'Sun, 23 Apr 2023 19:52:36 GMT',\n",
       "   'content-type': 'application/x-amz-json-1.0',\n",
       "   'content-length': '23',\n",
       "   'connection': 'keep-alive',\n",
       "   'x-amzn-requestid': 'S22TL0G71B4P29MGMFS842335FVV4KQNSO5AEMVJF66Q9ASUAAJG',\n",
       "   'x-amz-crc32': '312962171'},\n",
       "  'RetryAttempts': 0}}"
      ]
     },
     "execution_count": 9,
     "metadata": {},
     "output_type": "execute_result"
    }
   ],
   "source": [
    "#Validate above table\n",
    "dynamo_client.list_tables()"
   ]
  },
  {
   "cell_type": "code",
   "execution_count": 10,
   "metadata": {},
   "outputs": [
    {
     "data": {
      "text/plain": [
       "{'Table': {'AttributeDefinitions': [{'AttributeName': 'job_id',\n",
       "    'AttributeType': 'S'}],\n",
       "  'TableName': 'jobs',\n",
       "  'KeySchema': [{'AttributeName': 'job_id', 'KeyType': 'HASH'}],\n",
       "  'TableStatus': 'ACTIVE',\n",
       "  'CreationDateTime': datetime.datetime(2023, 4, 23, 14, 52, 14, 893000, tzinfo=tzlocal()),\n",
       "  'ProvisionedThroughput': {'NumberOfDecreasesToday': 0,\n",
       "   'ReadCapacityUnits': 0,\n",
       "   'WriteCapacityUnits': 0},\n",
       "  'TableSizeBytes': 0,\n",
       "  'ItemCount': 0,\n",
       "  'TableArn': 'arn:aws:dynamodb:us-east-1:866874214817:table/jobs',\n",
       "  'TableId': '1d14298b-88e7-4c8e-8c11-dfc63de08fbc',\n",
       "  'BillingModeSummary': {'BillingMode': 'PAY_PER_REQUEST',\n",
       "   'LastUpdateToPayPerRequestDateTime': datetime.datetime(2023, 4, 23, 14, 52, 14, 893000, tzinfo=tzlocal())}},\n",
       " 'ResponseMetadata': {'RequestId': 'E63OHPFEIEQMRR6Q4J97KMF9O3VV4KQNSO5AEMVJF66Q9ASUAAJG',\n",
       "  'HTTPStatusCode': 200,\n",
       "  'HTTPHeaders': {'server': 'Server',\n",
       "   'date': 'Sun, 23 Apr 2023 19:52:52 GMT',\n",
       "   'content-type': 'application/x-amz-json-1.0',\n",
       "   'content-length': '729',\n",
       "   'connection': 'keep-alive',\n",
       "   'x-amzn-requestid': 'E63OHPFEIEQMRR6Q4J97KMF9O3VV4KQNSO5AEMVJF66Q9ASUAAJG',\n",
       "   'x-amz-crc32': '4207487046'},\n",
       "  'RetryAttempts': 0}}"
      ]
     },
     "execution_count": 10,
     "metadata": {},
     "output_type": "execute_result"
    }
   ],
   "source": [
    "#Describe table to see definition of Table jobs\n",
    "dynamo_client.describe_table(TableName='jobs')"
   ]
  },
  {
   "cell_type": "code",
   "execution_count": 11,
   "metadata": {},
   "outputs": [],
   "source": [
    "#Create dynamodb resource to insert data into dynamodb table jobs. Using boto3 invoking resource function\n",
    "dynamodb_resource = boto3.resource('dynamodb')"
   ]
  },
  {
   "cell_type": "code",
   "execution_count": 12,
   "metadata": {},
   "outputs": [
    {
     "data": {
      "text/plain": [
       "boto3.resources.factory.dynamodb.ServiceResource"
      ]
     },
     "execution_count": 12,
     "metadata": {},
     "output_type": "execute_result"
    }
   ],
   "source": [
    "#check type of  dynamodb_resource\n",
    "type(dynamodb_resource)"
   ]
  },
  {
   "cell_type": "code",
   "execution_count": 13,
   "metadata": {},
   "outputs": [],
   "source": [
    "#Create table object by using Table constructor which is available on top of ServiceResource within dynamodb\n",
    "job_details_table = dynamodb_resource.Table('jobs')"
   ]
  },
  {
   "cell_type": "code",
   "execution_count": 14,
   "metadata": {},
   "outputs": [
    {
     "data": {
      "text/plain": [
       "boto3.resources.factory.dynamodb.Table"
      ]
     },
     "execution_count": 14,
     "metadata": {},
     "output_type": "execute_result"
    }
   ],
   "source": [
    "#validate type of job_detail_table\n",
    "type(job_details_table)\n"
   ]
  },
  {
   "cell_type": "code",
   "execution_count": 15,
   "metadata": {},
   "outputs": [],
   "source": [
    "# create dictionary object which will be used to load the table\n",
    "job_details = {\n",
    "    'job_id': 'gitaws_ingest',\n",
    "    'job_description': 'Ingest gharchive data to s3',\n",
    "    'is_active': 'Y'\n",
    "}"
   ]
  },
  {
   "cell_type": "code",
   "execution_count": 16,
   "metadata": {},
   "outputs": [
    {
     "data": {
      "text/plain": [
       "{'ResponseMetadata': {'RequestId': '5P72FOSIS13GS65PJQ4FE42M8NVV4KQNSO5AEMVJF66Q9ASUAAJG',\n",
       "  'HTTPStatusCode': 200,\n",
       "  'HTTPHeaders': {'server': 'Server',\n",
       "   'date': 'Sun, 23 Apr 2023 19:54:41 GMT',\n",
       "   'content-type': 'application/x-amz-json-1.0',\n",
       "   'content-length': '2',\n",
       "   'connection': 'keep-alive',\n",
       "   'x-amzn-requestid': '5P72FOSIS13GS65PJQ4FE42M8NVV4KQNSO5AEMVJF66Q9ASUAAJG',\n",
       "   'x-amz-crc32': '2745614147'},\n",
       "  'RetryAttempts': 0}}"
      ]
     },
     "execution_count": 16,
     "metadata": {},
     "output_type": "execute_result"
    }
   ],
   "source": [
    "#Inserting record into table using put_item and the dictionary created above. Item key word is mandatory for put_item\n",
    "job_details_table.put_item(\n",
    "    Item=job_details\n",
    ")"
   ]
  },
  {
   "cell_type": "code",
   "execution_count": 17,
   "metadata": {},
   "outputs": [
    {
     "data": {
      "text/plain": [
       "{'Items': [{'job_description': 'Ingest gharchive data to s3',\n",
       "   'is_active': 'Y',\n",
       "   'job_id': 'gitaws_ingest'}],\n",
       " 'Count': 1,\n",
       " 'ScannedCount': 1,\n",
       " 'ResponseMetadata': {'RequestId': 'VF9DECTORA63RIDCNCS2UIEH9BVV4KQNSO5AEMVJF66Q9ASUAAJG',\n",
       "  'HTTPStatusCode': 200,\n",
       "  'HTTPHeaders': {'server': 'Server',\n",
       "   'date': 'Sun, 23 Apr 2023 19:54:50 GMT',\n",
       "   'content-type': 'application/x-amz-json-1.0',\n",
       "   'content-length': '147',\n",
       "   'connection': 'keep-alive',\n",
       "   'x-amzn-requestid': 'VF9DECTORA63RIDCNCS2UIEH9BVV4KQNSO5AEMVJF66Q9ASUAAJG',\n",
       "   'x-amz-crc32': '2485820931'},\n",
       "  'RetryAttempts': 0}}"
      ]
     },
     "execution_count": 17,
     "metadata": {},
     "output_type": "execute_result"
    }
   ],
   "source": [
    "#returns all the rows in the table\n",
    "job_details_table.scan()"
   ]
  },
  {
   "cell_type": "code",
   "execution_count": 18,
   "metadata": {},
   "outputs": [
    {
     "data": {
      "text/plain": [
       "{'Item': {'job_description': 'Ingest gharchive data to s3',\n",
       "  'is_active': 'Y',\n",
       "  'job_id': 'gitaws_ingest'},\n",
       " 'ResponseMetadata': {'RequestId': '6OM3DF75HJKMJVD6V9GUERI9L3VV4KQNSO5AEMVJF66Q9ASUAAJG',\n",
       "  'HTTPStatusCode': 200,\n",
       "  'HTTPHeaders': {'server': 'Server',\n",
       "   'date': 'Sun, 23 Apr 2023 19:54:59 GMT',\n",
       "   'content-type': 'application/x-amz-json-1.0',\n",
       "   'content-length': '117',\n",
       "   'connection': 'keep-alive',\n",
       "   'x-amzn-requestid': '6OM3DF75HJKMJVD6V9GUERI9L3VV4KQNSO5AEMVJF66Q9ASUAAJG',\n",
       "   'x-amz-crc32': '1843474771'},\n",
       "  'RetryAttempts': 0}}"
      ]
     },
     "execution_count": 18,
     "metadata": {},
     "output_type": "execute_result"
    }
   ],
   "source": [
    "#get_item returns only one row based on the key passed\n",
    "job_details_table.get_item(Key={'job_id': 'gitaws_ingest'})"
   ]
  },
  {
   "cell_type": "code",
   "execution_count": 19,
   "metadata": {},
   "outputs": [],
   "source": [
    "#Adding additional field into table using dictionary\n",
    "job_details = {\n",
    "    'job_id': 'gitaws_ingest',\n",
    "    'job_description': 'Ingest gharchive data to s3',\n",
    "    'is_active': 'Y',\n",
    "    'baseline_days': 3\n",
    "}"
   ]
  },
  {
   "cell_type": "code",
   "execution_count": 20,
   "metadata": {},
   "outputs": [
    {
     "data": {
      "text/plain": [
       "{'ResponseMetadata': {'RequestId': '1VFC0V8CQAQD6LHV39S2EVIEGNVV4KQNSO5AEMVJF66Q9ASUAAJG',\n",
       "  'HTTPStatusCode': 200,\n",
       "  'HTTPHeaders': {'server': 'Server',\n",
       "   'date': 'Sun, 23 Apr 2023 19:55:31 GMT',\n",
       "   'content-type': 'application/x-amz-json-1.0',\n",
       "   'content-length': '2',\n",
       "   'connection': 'keep-alive',\n",
       "   'x-amzn-requestid': '1VFC0V8CQAQD6LHV39S2EVIEGNVV4KQNSO5AEMVJF66Q9ASUAAJG',\n",
       "   'x-amz-crc32': '2745614147'},\n",
       "  'RetryAttempts': 0}}"
      ]
     },
     "execution_count": 20,
     "metadata": {},
     "output_type": "execute_result"
    }
   ],
   "source": [
    "#overwrites existing item because key is same\n",
    "job_details_table.put_item(\n",
    "    Item=job_details\n",
    ")"
   ]
  },
  {
   "cell_type": "code",
   "execution_count": 21,
   "metadata": {},
   "outputs": [
    {
     "data": {
      "text/plain": [
       "{'Item': {'job_description': 'Ingest gharchive data to s3',\n",
       "  'is_active': 'Y',\n",
       "  'job_id': 'gitaws_ingest',\n",
       "  'baseline_days': Decimal('3')},\n",
       " 'ResponseMetadata': {'RequestId': 'LAQEON085MJF7BFQC4TSE216FRVV4KQNSO5AEMVJF66Q9ASUAAJG',\n",
       "  'HTTPStatusCode': 200,\n",
       "  'HTTPHeaders': {'server': 'Server',\n",
       "   'date': 'Sun, 23 Apr 2023 19:55:36 GMT',\n",
       "   'content-type': 'application/x-amz-json-1.0',\n",
       "   'content-length': '143',\n",
       "   'connection': 'keep-alive',\n",
       "   'x-amzn-requestid': 'LAQEON085MJF7BFQC4TSE216FRVV4KQNSO5AEMVJF66Q9ASUAAJG',\n",
       "   'x-amz-crc32': '2753680675'},\n",
       "  'RetryAttempts': 0}}"
      ]
     },
     "execution_count": 21,
     "metadata": {},
     "output_type": "execute_result"
    }
   ],
   "source": [
    "#validate updated data based on the key passed\n",
    "job_details_table.get_item(Key={'job_id': 'gitaws_ingest'})"
   ]
  }
 ],
 "metadata": {
  "kernelspec": {
   "display_name": "git-venv",
   "language": "python",
   "name": "python3"
  },
  "language_info": {
   "codemirror_mode": {
    "name": "ipython",
    "version": 3
   },
   "file_extension": ".py",
   "mimetype": "text/x-python",
   "name": "python",
   "nbconvert_exporter": "python",
   "pygments_lexer": "ipython3",
   "version": "3.10.7"
  },
  "orig_nbformat": 4
 },
 "nbformat": 4,
 "nbformat_minor": 2
}
